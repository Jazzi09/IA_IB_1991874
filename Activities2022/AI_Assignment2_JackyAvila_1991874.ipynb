{
  "nbformat": 4,
  "nbformat_minor": 0,
  "metadata": {
    "colab": {
      "provenance": [],
      "authorship_tag": "ABX9TyPHS2N+j/Ee+mQaVYhs6b9Z",
      "include_colab_link": true
    },
    "kernelspec": {
      "name": "python3",
      "display_name": "Python 3"
    },
    "language_info": {
      "name": "python"
    }
  },
  "cells": [
    {
      "cell_type": "markdown",
      "metadata": {
        "id": "view-in-github",
        "colab_type": "text"
      },
      "source": [
        "<a href=\"https://colab.research.google.com/github/Jazzi09/IA_IB_1991874/blob/main/AI_Assignment2_JackyAvila_1991874.ipynb\" target=\"_parent\"><img src=\"https://colab.research.google.com/assets/colab-badge.svg\" alt=\"Open In Colab\"/></a>"
      ]
    },
    {
      "cell_type": "code",
      "execution_count": 1,
      "metadata": {
        "id": "5Dw_5S5SlAKS"
      },
      "outputs": [],
      "source": [
        "#A2: Python exercises --- Raquel Jackeline Avila Blanco --- 1991874 --- MaN4"
      ]
    },
    {
      "cell_type": "code",
      "source": [
        "def greeting (name):\n",
        "  if name == \"Ana\" or name == \"John\" or name == \"Peter\":\n",
        "    print(\"\")\n",
        "  else:\n",
        "    print(\"Hi,\", name, \"! It's nice to meet you.\")\n",
        "\n",
        "name = input (\"What's your name? \")\n",
        "greeting(name)"
      ],
      "metadata": {
        "colab": {
          "base_uri": "https://localhost:8080/"
        },
        "id": "D0eXL6RylU4w",
        "outputId": "665be54a-d1fc-4042-94fc-4cc19ca0f186"
      },
      "execution_count": 4,
      "outputs": [
        {
          "output_type": "stream",
          "name": "stdout",
          "text": [
            "What's your name? Ana\n",
            "\n"
          ]
        }
      ]
    },
    {
      "cell_type": "code",
      "source": [
        "elementList = [\"one\", \"two\", \"three\", \"four\"]\n",
        "\n",
        "def revertedList (elementList):\n",
        "  lastElem = elementList[-1]\n",
        "  print(\"Last element:\", lastElem)\n",
        "  elementList.reverse()\n",
        "  print(\"Reversed List:\", elementList)\n",
        "\n",
        "revertedList(elementList)"
      ],
      "metadata": {
        "colab": {
          "base_uri": "https://localhost:8080/"
        },
        "id": "WYKVaJuplZAv",
        "outputId": "3ea3418a-44c1-4c6c-c69d-473188222f91"
      },
      "execution_count": 5,
      "outputs": [
        {
          "output_type": "stream",
          "name": "stdout",
          "text": [
            "Last element: four\n",
            "Reversed List: ['four', 'three', 'two', 'one']\n"
          ]
        }
      ]
    },
    {
      "cell_type": "code",
      "source": [
        "from random import choice\n",
        "stringList = []\n",
        "\n",
        "while True:\n",
        "  elem = input(\"Introduce a string:\")\n",
        "  stringList.append(elem)\n",
        "\n",
        "  choice = input(\"End list? (y/n):\")\n",
        "  if choice.casefold() == \"y\":\n",
        "    break\n",
        "\n",
        "\n",
        "def rectangularList(stringList):\n",
        "  size = max(len(i) for i in stringList)\n",
        "  print(\"*\" * (size + 4))\n",
        "  for i in stringList:\n",
        "    print(\"* {:<{}} *\".format(i, size))\n",
        "  print(\"*\" * (size + 4))\n",
        "\n",
        "rectangularList(stringList)"
      ],
      "metadata": {
        "colab": {
          "base_uri": "https://localhost:8080/"
        },
        "id": "t8NOvXhGv9lx",
        "outputId": "95215f0a-9faa-492d-8a76-6bd702bfc89f"
      },
      "execution_count": 6,
      "outputs": [
        {
          "output_type": "stream",
          "name": "stdout",
          "text": [
            "Introduce a string:Hi\n",
            "End list? (y/n):n\n",
            "Introduce a string:my\n",
            "End list? (y/n):n\n",
            "Introduce a string:name\n",
            "End list? (y/n):n\n",
            "Introduce a string:is\n",
            "End list? (y/n):n\n",
            "Introduce a string:Jacky\n",
            "End list? (y/n):y\n",
            "*********\n",
            "* Hi    *\n",
            "* my    *\n",
            "* name  *\n",
            "* is    *\n",
            "* Jacky *\n",
            "*********\n"
          ]
        }
      ]
    }
  ]
}